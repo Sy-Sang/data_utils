{
 "cells": [
  {
   "metadata": {
    "ExecuteTime": {
     "end_time": "2024-08-30T06:00:14.647151Z",
     "start_time": "2024-08-30T06:00:13.741078Z"
    }
   },
   "cell_type": "code",
   "source": [
    "from data_utils.stochastic_utils.distributions.basic_distributions import NormalDistribution,LogNormalDistribution,WeibullDistribution\n",
    "from data_utils.stochastic_utils.distributions.fit import estimated_distribution\n",
    "from data_utils.serial_utils.series_trans_utils import MinMax,ZScore\n",
    "from data_utils.serial_utils.data_series import DataSeries\n",
    "import numpy\n",
    "from matplotlib import pyplot"
   ],
   "id": "b3719f41b2c88b65",
   "outputs": [],
   "execution_count": 1
  },
  {
   "metadata": {
    "ExecuteTime": {
     "end_time": "2024-08-30T06:00:14.964021Z",
     "start_time": "2024-08-30T06:00:14.648143Z"
    }
   },
   "cell_type": "code",
   "source": [
    "wd = WeibullDistribution(2,5)\n",
    "rwd = wd.rvf(100)\n",
    "\n",
    "print(WeibullDistribution.parameter_range)\n",
    "\n",
    "ed = estimated_distribution(rwd, WeibullDistribution)\n",
    "print(ed.tolist())"
   ],
   "id": "79bfe9ed5b5152f5",
   "outputs": [
    {
     "name": "stdout",
     "output_type": "stream",
     "text": [
      "{'alpha': domain(low=np.float64(2.220446049250313e-16), high=inf), 'beta': domain(low=np.float64(2.220446049250313e-16), high=inf), 'miu': domain(low=-inf, high=inf)}\n"
     ]
    },
    {
     "ename": "AttributeError",
     "evalue": "'float' object has no attribute 'y'",
     "output_type": "error",
     "traceback": [
      "\u001B[1;31m---------------------------------------------------------------------------\u001B[0m",
      "\u001B[1;31mAttributeError\u001B[0m                            Traceback (most recent call last)",
      "Cell \u001B[1;32mIn[2], line 6\u001B[0m\n\u001B[0;32m      2\u001B[0m rwd \u001B[38;5;241m=\u001B[39m wd\u001B[38;5;241m.\u001B[39mrvf(\u001B[38;5;241m100\u001B[39m)\n\u001B[0;32m      4\u001B[0m \u001B[38;5;28mprint\u001B[39m(WeibullDistribution\u001B[38;5;241m.\u001B[39mparameter_range)\n\u001B[1;32m----> 6\u001B[0m ed \u001B[38;5;241m=\u001B[39m \u001B[43mestimated_distribution\u001B[49m\u001B[43m(\u001B[49m\u001B[43mrwd\u001B[49m\u001B[43m,\u001B[49m\u001B[43m \u001B[49m\u001B[43mWeibullDistribution\u001B[49m\u001B[43m)\u001B[49m\n\u001B[0;32m      7\u001B[0m \u001B[38;5;28mprint\u001B[39m(ed\u001B[38;5;241m.\u001B[39mtolist())\n",
      "File \u001B[1;32mE:\\code\\github\\data_utils\\data_utils\\stochastic_utils\\distributions\\fit.py:130\u001B[0m, in \u001B[0;36mestimated_distribution\u001B[1;34m(data, dist)\u001B[0m\n\u001B[0;32m    128\u001B[0m     temp_param[item[\u001B[38;5;241m0\u001B[39m]] \u001B[38;5;241m=\u001B[39m r\n\u001B[0;32m    129\u001B[0m temp_dist \u001B[38;5;241m=\u001B[39m dist(\u001B[38;5;241m*\u001B[39m\u001B[38;5;241m*\u001B[39mtemp_param)\n\u001B[1;32m--> 130\u001B[0m \u001B[38;5;28mprint\u001B[39m(\u001B[43mtemp_dist\u001B[49m\u001B[38;5;241;43m.\u001B[39;49m\u001B[43mppf\u001B[49m\u001B[43m(\u001B[49m\u001B[38;5;28;43mlen\u001B[39;49m\u001B[43m(\u001B[49m\u001B[43mdata\u001B[49m\u001B[43m)\u001B[49m\u001B[43m)\u001B[49m\u001B[38;5;241;43m.\u001B[39;49m\u001B[43my\u001B[49m)\n",
      "\u001B[1;31mAttributeError\u001B[0m: 'float' object has no attribute 'y'"
     ]
    }
   ],
   "execution_count": 2
  },
  {
   "metadata": {},
   "cell_type": "code",
   "source": "rwd",
   "id": "281e1947a39fc98b",
   "outputs": [],
   "execution_count": null
  },
  {
   "metadata": {},
   "cell_type": "code",
   "source": "",
   "id": "e0ee4ce90d8d1140",
   "outputs": [],
   "execution_count": null
  }
 ],
 "metadata": {
  "kernelspec": {
   "display_name": "Python 3",
   "language": "python",
   "name": "python3"
  },
  "language_info": {
   "codemirror_mode": {
    "name": "ipython",
    "version": 2
   },
   "file_extension": ".py",
   "mimetype": "text/x-python",
   "name": "python",
   "nbconvert_exporter": "python",
   "pygments_lexer": "ipython2",
   "version": "2.7.6"
  }
 },
 "nbformat": 4,
 "nbformat_minor": 5
}
